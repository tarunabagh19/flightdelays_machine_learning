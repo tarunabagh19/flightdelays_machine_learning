{
  "nbformat": 4,
  "nbformat_minor": 0,
  "metadata": {
    "colab": {
      "name": "machinelearning.ipynb",
      "provenance": [],
      "collapsed_sections": []
    },
    "kernelspec": {
      "name": "python3",
      "display_name": "Python 3"
    }
  },
  "cells": [
    {
      "cell_type": "code",
      "metadata": {
        "id": "alOyOs5ez-dR"
      },
      "source": [
        "# This is a simple Decision tree on time series data with weather predictions\n",
        "# Using the package DecisionTreeClassifier from sklearn\n",
        "# Loading all the packages\n",
        "# Load libraries\n",
        "import pandas as pd\n",
        "from sklearn.tree import DecisionTreeClassifier # Import Decision Tree Classifier\n",
        "from sklearn.model_selection import train_test_split # Import train_test_split function\n",
        "from sklearn import metrics #Import scikit-learn metrics module for accuracy calculation\n",
        "from sklearn.multioutput import MultiOutputClassifier\n",
        "from sklearn.metrics import classification_report, confusion_matrix\n",
        "from sklearn.metrics import accuracy_score, f1_score, precision_score, recall_score, classification_report, confusion_matrix\n",
        "from matplotlib.colors import ListedColormap\n",
        "import numpy as np\n",
        "import re\n",
        "import datetime\n",
        "import math\n",
        "\n",
        "import matplotlib.pyplot as plt\n"
      ],
      "execution_count": 550,
      "outputs": []
    },
    {
      "cell_type": "code",
      "metadata": {
        "id": "Ejkzl5dI1bnt",
        "colab": {
          "base_uri": "https://localhost:8080/"
        },
        "outputId": "2fb7b15f-e0ea-4ee1-a823-95d85b8ea70a"
      },
      "source": [
        "#reading flight delayed csv\n",
        "dataset = pd.read_csv('sample_data/Delay_Flight_Airport_Visibility_Cleaned.csv')\n"
      ],
      "execution_count": 551,
      "outputs": [
        {
          "output_type": "stream",
          "text": [
            "/usr/local/lib/python3.7/dist-packages/IPython/core/interactiveshell.py:2718: DtypeWarning: Columns (36) have mixed types.Specify dtype option on import or set low_memory=False.\n",
            "  interactivity=interactivity, compiler=compiler, result=result)\n"
          ],
          "name": "stderr"
        }
      ]
    },
    {
      "cell_type": "code",
      "metadata": {
        "colab": {
          "base_uri": "https://localhost:8080/",
          "height": 309
        },
        "id": "te_6smjW2T-z",
        "outputId": "62de5906-df6c-46d6-d627-0ffff7aab3df"
      },
      "source": [
        "dataset.head()\n"
      ],
      "execution_count": 552,
      "outputs": [
        {
          "output_type": "execute_result",
          "data": {
            "text/html": [
              "<div>\n",
              "<style scoped>\n",
              "    .dataframe tbody tr th:only-of-type {\n",
              "        vertical-align: middle;\n",
              "    }\n",
              "\n",
              "    .dataframe tbody tr th {\n",
              "        vertical-align: top;\n",
              "    }\n",
              "\n",
              "    .dataframe thead th {\n",
              "        text-align: right;\n",
              "    }\n",
              "</style>\n",
              "<table border=\"1\" class=\"dataframe\">\n",
              "  <thead>\n",
              "    <tr style=\"text-align: right;\">\n",
              "      <th></th>\n",
              "      <th>X</th>\n",
              "      <th>Origin.City</th>\n",
              "      <th>Date</th>\n",
              "      <th>Destination.IATA</th>\n",
              "      <th>Origin.IATA</th>\n",
              "      <th>Weekday</th>\n",
              "      <th>DepTime</th>\n",
              "      <th>CRSDepTime</th>\n",
              "      <th>ArrTime</th>\n",
              "      <th>UniqueCarrier</th>\n",
              "      <th>CRSArrTime</th>\n",
              "      <th>FlightNum</th>\n",
              "      <th>TailNum</th>\n",
              "      <th>ActualElapsedTime</th>\n",
              "      <th>CRSElapsedTime</th>\n",
              "      <th>AirTime</th>\n",
              "      <th>ArrDelay</th>\n",
              "      <th>DepDelay</th>\n",
              "      <th>Distance</th>\n",
              "      <th>TaxiIn</th>\n",
              "      <th>TaxiOut</th>\n",
              "      <th>CarrierDelay</th>\n",
              "      <th>WeatherDelay</th>\n",
              "      <th>NASDelay</th>\n",
              "      <th>SecurityDelay</th>\n",
              "      <th>LateAircraftDelay</th>\n",
              "      <th>Origin.Airport</th>\n",
              "      <th>Origin.State</th>\n",
              "      <th>Origin.Latitude</th>\n",
              "      <th>Origin.Longitude</th>\n",
              "      <th>Destination.Airport</th>\n",
              "      <th>Destination.City</th>\n",
              "      <th>Destination.State</th>\n",
              "      <th>Destination.Latitude</th>\n",
              "      <th>Destination.Longitude</th>\n",
              "      <th>Max.Temp</th>\n",
              "      <th>Min.Temp</th>\n",
              "      <th>visibility</th>\n",
              "      <th>Date.1</th>\n",
              "      <th>CommuteTime</th>\n",
              "      <th>CRSCommuteTime</th>\n",
              "    </tr>\n",
              "  </thead>\n",
              "  <tbody>\n",
              "    <tr>\n",
              "      <th>1</th>\n",
              "      <td>2</td>\n",
              "      <td>Albuquerque</td>\n",
              "      <td>2008-01-10</td>\n",
              "      <td>PHX</td>\n",
              "      <td>ABQ</td>\n",
              "      <td>Thursday</td>\n",
              "      <td>20:02</td>\n",
              "      <td>19:35</td>\n",
              "      <td>21:11</td>\n",
              "      <td>WN</td>\n",
              "      <td>20:50</td>\n",
              "      <td>160</td>\n",
              "      <td>N409WN</td>\n",
              "      <td>69</td>\n",
              "      <td>75</td>\n",
              "      <td>55</td>\n",
              "      <td>21</td>\n",
              "      <td>27</td>\n",
              "      <td>328</td>\n",
              "      <td>6</td>\n",
              "      <td>8</td>\n",
              "      <td>21</td>\n",
              "      <td>0</td>\n",
              "      <td>0</td>\n",
              "      <td>0</td>\n",
              "      <td>0</td>\n",
              "      <td>Albuquerque International</td>\n",
              "      <td>NM</td>\n",
              "      <td>35.040222</td>\n",
              "      <td>-106.609194</td>\n",
              "      <td>Phoenix Sky Harbor International</td>\n",
              "      <td>Phoenix</td>\n",
              "      <td>AZ</td>\n",
              "      <td>33.434167</td>\n",
              "      <td>-112.008056</td>\n",
              "      <td>2.4</td>\n",
              "      <td>-36.4</td>\n",
              "      <td>4</td>\n",
              "      <td>2008-01-10</td>\n",
              "      <td>69</td>\n",
              "      <td>75</td>\n",
              "    </tr>\n",
              "    <tr>\n",
              "      <th>2</th>\n",
              "      <td>3</td>\n",
              "      <td>Albuquerque</td>\n",
              "      <td>2008-01-04</td>\n",
              "      <td>HOU</td>\n",
              "      <td>ABQ</td>\n",
              "      <td>Friday</td>\n",
              "      <td>19:31</td>\n",
              "      <td>18:45</td>\n",
              "      <td>22:25</td>\n",
              "      <td>WN</td>\n",
              "      <td>21:40</td>\n",
              "      <td>1925</td>\n",
              "      <td>N522SW</td>\n",
              "      <td>174</td>\n",
              "      <td>175</td>\n",
              "      <td>100</td>\n",
              "      <td>45</td>\n",
              "      <td>46</td>\n",
              "      <td>759</td>\n",
              "      <td>2</td>\n",
              "      <td>12</td>\n",
              "      <td>2</td>\n",
              "      <td>0</td>\n",
              "      <td>0</td>\n",
              "      <td>0</td>\n",
              "      <td>43</td>\n",
              "      <td>Albuquerque International</td>\n",
              "      <td>NM</td>\n",
              "      <td>35.040222</td>\n",
              "      <td>-106.609194</td>\n",
              "      <td>William P X</td>\n",
              "      <td>Houston</td>\n",
              "      <td>TX</td>\n",
              "      <td>29.645419</td>\n",
              "      <td>-95.278889</td>\n",
              "      <td>2.4</td>\n",
              "      <td>-36.4</td>\n",
              "      <td>4</td>\n",
              "      <td>2008-01-04</td>\n",
              "      <td>174</td>\n",
              "      <td>175</td>\n",
              "    </tr>\n",
              "    <tr>\n",
              "      <th>3</th>\n",
              "      <td>5</td>\n",
              "      <td>Albuquerque</td>\n",
              "      <td>2008-01-31</td>\n",
              "      <td>STL</td>\n",
              "      <td>ABQ</td>\n",
              "      <td>Thursday</td>\n",
              "      <td>10:52</td>\n",
              "      <td>10:40</td>\n",
              "      <td>14:10</td>\n",
              "      <td>WN</td>\n",
              "      <td>13:55</td>\n",
              "      <td>2546</td>\n",
              "      <td>N323SW</td>\n",
              "      <td>198</td>\n",
              "      <td>195</td>\n",
              "      <td>123</td>\n",
              "      <td>15</td>\n",
              "      <td>12</td>\n",
              "      <td>934</td>\n",
              "      <td>5</td>\n",
              "      <td>10</td>\n",
              "      <td>0</td>\n",
              "      <td>0</td>\n",
              "      <td>3</td>\n",
              "      <td>0</td>\n",
              "      <td>12</td>\n",
              "      <td>Albuquerque International</td>\n",
              "      <td>NM</td>\n",
              "      <td>35.040222</td>\n",
              "      <td>-106.609194</td>\n",
              "      <td>Lambert-St Louis International</td>\n",
              "      <td>St Louis</td>\n",
              "      <td>MO</td>\n",
              "      <td>38.747687</td>\n",
              "      <td>-90.359990</td>\n",
              "      <td>2.4</td>\n",
              "      <td>-36.4</td>\n",
              "      <td>4</td>\n",
              "      <td>2008-01-31</td>\n",
              "      <td>198</td>\n",
              "      <td>195</td>\n",
              "    </tr>\n",
              "    <tr>\n",
              "      <th>4</th>\n",
              "      <td>6</td>\n",
              "      <td>Albuquerque</td>\n",
              "      <td>2008-01-02</td>\n",
              "      <td>LBB</td>\n",
              "      <td>ABQ</td>\n",
              "      <td>Wednesday</td>\n",
              "      <td>16:00</td>\n",
              "      <td>15:30</td>\n",
              "      <td>17:49</td>\n",
              "      <td>WN</td>\n",
              "      <td>17:25</td>\n",
              "      <td>555</td>\n",
              "      <td>N512SW</td>\n",
              "      <td>109</td>\n",
              "      <td>115</td>\n",
              "      <td>43</td>\n",
              "      <td>24</td>\n",
              "      <td>30</td>\n",
              "      <td>289</td>\n",
              "      <td>2</td>\n",
              "      <td>4</td>\n",
              "      <td>1</td>\n",
              "      <td>0</td>\n",
              "      <td>0</td>\n",
              "      <td>0</td>\n",
              "      <td>23</td>\n",
              "      <td>Albuquerque International</td>\n",
              "      <td>NM</td>\n",
              "      <td>35.040222</td>\n",
              "      <td>-106.609194</td>\n",
              "      <td>Lubbock International</td>\n",
              "      <td>Lubbock</td>\n",
              "      <td>TX</td>\n",
              "      <td>33.663639</td>\n",
              "      <td>-101.822778</td>\n",
              "      <td>2.4</td>\n",
              "      <td>-36.4</td>\n",
              "      <td>4</td>\n",
              "      <td>2008-01-02</td>\n",
              "      <td>109</td>\n",
              "      <td>115</td>\n",
              "    </tr>\n",
              "    <tr>\n",
              "      <th>5</th>\n",
              "      <td>7</td>\n",
              "      <td>Albuquerque</td>\n",
              "      <td>2008-01-29</td>\n",
              "      <td>DFW</td>\n",
              "      <td>ABQ</td>\n",
              "      <td>Tuesday</td>\n",
              "      <td>18:12</td>\n",
              "      <td>17:30</td>\n",
              "      <td>20:40</td>\n",
              "      <td>AA</td>\n",
              "      <td>20:15</td>\n",
              "      <td>636</td>\n",
              "      <td>N298AA</td>\n",
              "      <td>148</td>\n",
              "      <td>165</td>\n",
              "      <td>73</td>\n",
              "      <td>25</td>\n",
              "      <td>42</td>\n",
              "      <td>569</td>\n",
              "      <td>8</td>\n",
              "      <td>7</td>\n",
              "      <td>0</td>\n",
              "      <td>0</td>\n",
              "      <td>0</td>\n",
              "      <td>0</td>\n",
              "      <td>25</td>\n",
              "      <td>Albuquerque International</td>\n",
              "      <td>NM</td>\n",
              "      <td>35.040222</td>\n",
              "      <td>-106.609194</td>\n",
              "      <td>Dallas-Fort Worth International</td>\n",
              "      <td>Dallas-Fort Worth</td>\n",
              "      <td>TX</td>\n",
              "      <td>32.895951</td>\n",
              "      <td>-97.037200</td>\n",
              "      <td>2.4</td>\n",
              "      <td>-36.4</td>\n",
              "      <td>4</td>\n",
              "      <td>2008-01-29</td>\n",
              "      <td>148</td>\n",
              "      <td>165</td>\n",
              "    </tr>\n",
              "  </tbody>\n",
              "</table>\n",
              "</div>"
            ],
            "text/plain": [
              "   X  Origin.City        Date  ...      Date.1 CommuteTime CRSCommuteTime\n",
              "1  2  Albuquerque  2008-01-10  ...  2008-01-10          69             75\n",
              "2  3  Albuquerque  2008-01-04  ...  2008-01-04         174            175\n",
              "3  5  Albuquerque  2008-01-31  ...  2008-01-31         198            195\n",
              "4  6  Albuquerque  2008-01-02  ...  2008-01-02         109            115\n",
              "5  7  Albuquerque  2008-01-29  ...  2008-01-29         148            165\n",
              "\n",
              "[5 rows x 41 columns]"
            ]
          },
          "metadata": {
            "tags": []
          },
          "execution_count": 552
        }
      ]
    },
    {
      "cell_type": "code",
      "metadata": {
        "colab": {
          "base_uri": "https://localhost:8080/"
        },
        "id": "py0bXxmQcKZH",
        "outputId": "0164e5b5-8b78-4190-df29-9ab4701506d6"
      },
      "source": [
        "dataset['Date']"
      ],
      "execution_count": 553,
      "outputs": [
        {
          "output_type": "execute_result",
          "data": {
            "text/plain": [
              "1         2008-01-10\n",
              "2         2008-01-04\n",
              "3         2008-01-31\n",
              "4         2008-01-02\n",
              "5         2008-01-29\n",
              "             ...    \n",
              "353449    2008-09-01\n",
              "353450    2008-09-16\n",
              "353451    2008-09-04\n",
              "353452    2008-09-15\n",
              "353453    2008-09-20\n",
              "Name: Date, Length: 353453, dtype: object"
            ]
          },
          "metadata": {
            "tags": []
          },
          "execution_count": 553
        }
      ]
    },
    {
      "cell_type": "code",
      "metadata": {
        "id": "V2QXgbdYRey2"
      },
      "source": [
        "def convertToFloat( data ):\n",
        "  dataConverted = []\n",
        "\n",
        "  for item in data:\n",
        "\n",
        "    if type(item) == str:\n",
        "      item = re.sub(\"−\", \"-\", item)\n",
        "    convertedVal = float(item)\n",
        "    dataConverted.append(convertedVal)\n",
        "  \n",
        "  print(len(data))\n",
        "  print(len(dataConverted))\n",
        "  return dataConverted"
      ],
      "execution_count": 554,
      "outputs": []
    },
    {
      "cell_type": "code",
      "metadata": {
        "id": "6r5b_DBVMBEA"
      },
      "source": [
        "def getMonth (dateInt):\n",
        "  dataConverted = []\n",
        "  index = 0\n",
        "  \n",
        "  for item in dateInt:\n",
        "    # [hour, minute] = arrTime.iloc[index].split(\":\")\n",
        "    # time = hour.rjust(2, '0') + minute.rjust(2, '0') \n",
        "    [year, month, day] = item.split(\"-\")\n",
        "    getMonth = int(month)\n",
        "    # convertedVal = converteddate.toordinal()\n",
        "    # convertedVal = getDateTime(int(month+day),arrTime.iloc[index])\n",
        "    dataConverted.append(getMonth)\n",
        "    # print(convertedVal + \"-\" + time + \"-\" + arrTime.iloc[index])\n",
        "    \n",
        "    index += 1\n",
        "  \n",
        "  return dataConverted"
      ],
      "execution_count": 555,
      "outputs": []
    },
    {
      "cell_type": "code",
      "metadata": {
        "id": "G2vGedsvMEAp"
      },
      "source": [
        "def getIntWeekDay (weekDay):\n",
        "  weekday = weekDay.lower()\n",
        "  if weekday == \"sunday\":\n",
        "    return 1\n",
        "  elif weekday == \"monday\":\n",
        "    return 2\n",
        "  elif weekday == \"tuesday\":\n",
        "    return 3\n",
        "  elif weekday == \"wednesday\":\n",
        "    return 4\n",
        "  elif weekday == \"thursday\":\n",
        "    return 5\n",
        "  elif weekday == \"friday\":\n",
        "    return 6\n",
        "  else:\n",
        "    return 7\n",
        "\n",
        "dataset[\"intWeekDay\"] = list(map(getIntWeekDay, dataset['Weekday']))"
      ],
      "execution_count": 556,
      "outputs": []
    },
    {
      "cell_type": "code",
      "metadata": {
        "colab": {
          "base_uri": "https://localhost:8080/"
        },
        "id": "Q3pRHEnKcaGo",
        "outputId": "138b8793-d59a-4e38-b68a-45c0c3485388"
      },
      "source": [
        "print(datetime.date(2008, 1, 10).toordinal());"
      ],
      "execution_count": 557,
      "outputs": [
        {
          "output_type": "stream",
          "text": [
            "733051\n"
          ],
          "name": "stdout"
        }
      ]
    },
    {
      "cell_type": "code",
      "metadata": {
        "colab": {
          "base_uri": "https://localhost:8080/"
        },
        "id": "YiTk53ShZ6yx",
        "outputId": "537183f1-d8bc-4f9e-f81c-590b073c9e01"
      },
      "source": [
        "dataset['Max.Temp'] = convertToFloat(dataset['Max.Temp'])\n",
        "# max_temp = pd.DataFrame(max_temp)\n",
        "# print(max_temp)\n",
        "dataset['Min.Temp'] = convertToFloat(dataset['Min.Temp'])\n",
        "dataset['Origin.Latitude'] = convertToFloat(dataset['Origin.Latitude'])\n",
        "dataset['Origin.Longitude'] = convertToFloat(dataset['Origin.Longitude'])\n",
        "\n",
        "\n",
        "dataset=dataset.dropna()"
      ],
      "execution_count": 558,
      "outputs": [
        {
          "output_type": "stream",
          "text": [
            "353453\n",
            "353453\n",
            "353453\n",
            "353453\n",
            "353453\n",
            "353453\n",
            "353453\n",
            "353453\n"
          ],
          "name": "stdout"
        }
      ]
    },
    {
      "cell_type": "code",
      "metadata": {
        "id": "AfyhjJUVYXFT"
      },
      "source": [
        "\n",
        "def getDateTime (dateInt, timeStr):\n",
        "  groupHour = 4\n",
        "  \n",
        "  [hours, minutes] = timeStr.split(\":\")\n",
        "\n",
        "  group = math.floor(int(hours or 0) / groupHour)\n",
        "  return float(str(dateInt) + \".\" + str(group))\n",
        "\n",
        "\n",
        "def convertTime( date, arrTime ):\n",
        "  dataConverted = []\n",
        "  index = 0\n",
        "  \n",
        "  for item in date:\n",
        "    # [hour, minute] = arrTime.iloc[index].split(\":\")\n",
        "    # time = hour.rjust(2, '0') + minute.rjust(2, '0') \n",
        "    [year, month, day] = item.split(\"-\")\n",
        "    convertedVal = datetime.date(int(year), int(month), int(day))\n",
        "    convertedVal = getDateTime(convertedVal.toordinal(),arrTime.iloc[index])\n",
        "    dataConverted.append(convertedVal)\n",
        "    # print(convertedVal + \"-\" + time + \"-\" + arrTime.iloc[index])\n",
        "    \n",
        "    index += 1\n",
        "  \n",
        "  \n",
        "  print(convertedVal)\n",
        "  return dataConverted\n",
        "\n",
        "\n",
        "\n",
        " "
      ],
      "execution_count": 559,
      "outputs": []
    },
    {
      "cell_type": "code",
      "metadata": {
        "id": "gYK28jtbsap7"
      },
      "source": [
        "\n",
        "\n",
        "def getTime (time):\n",
        "  timearr = []\n",
        "  index = 0\n",
        "  for item in time: \n",
        "    h, m = time.iloc[index].split(\":\")\n",
        "    #\\ timestring = datetime.time(int(hours), int(minutes))\n",
        "    timearr.append(int(datetime.timedelta(hours=int(h or 0),minutes=int(m)).total_seconds()))\n",
        "\n",
        "    # timearr.append(int(hours * 3600 + minutes * 60) )\n",
        "    index += 1\n",
        "  return timearr\n",
        "\n",
        "  \n",
        "\n"
      ],
      "execution_count": 560,
      "outputs": []
    },
    {
      "cell_type": "code",
      "metadata": {
        "id": "qGtD8VatUbZ-"
      },
      "source": [
        "dataset['DateTimeOrdinal'] = getMonth(dataset['Date'])\n",
        "dataset['CRSArrTime'] = getTime(dataset['CRSArrTime'])\n",
        "dataset['DepTime'] = getTime(dataset['DepTime'])\n",
        "\n",
        "dataset['CRSDepTime'] = getTime(dataset['CRSDepTime'])"
      ],
      "execution_count": 561,
      "outputs": []
    },
    {
      "cell_type": "code",
      "metadata": {
        "id": "1HoML3FnM5d4"
      },
      "source": [
        "dataset['Month'] = getMonth(dataset['Date'])\n"
      ],
      "execution_count": 562,
      "outputs": []
    },
    {
      "cell_type": "code",
      "metadata": {
        "id": "NsY9n_E9Sl-e",
        "colab": {
          "base_uri": "https://localhost:8080/",
          "height": 309
        },
        "outputId": "7c1f50b3-5de4-4353-9add-d92004cf0375"
      },
      "source": [
        "dataset.head()"
      ],
      "execution_count": 563,
      "outputs": [
        {
          "output_type": "execute_result",
          "data": {
            "text/html": [
              "<div>\n",
              "<style scoped>\n",
              "    .dataframe tbody tr th:only-of-type {\n",
              "        vertical-align: middle;\n",
              "    }\n",
              "\n",
              "    .dataframe tbody tr th {\n",
              "        vertical-align: top;\n",
              "    }\n",
              "\n",
              "    .dataframe thead th {\n",
              "        text-align: right;\n",
              "    }\n",
              "</style>\n",
              "<table border=\"1\" class=\"dataframe\">\n",
              "  <thead>\n",
              "    <tr style=\"text-align: right;\">\n",
              "      <th></th>\n",
              "      <th>X</th>\n",
              "      <th>Origin.City</th>\n",
              "      <th>Date</th>\n",
              "      <th>Destination.IATA</th>\n",
              "      <th>Origin.IATA</th>\n",
              "      <th>Weekday</th>\n",
              "      <th>DepTime</th>\n",
              "      <th>CRSDepTime</th>\n",
              "      <th>ArrTime</th>\n",
              "      <th>UniqueCarrier</th>\n",
              "      <th>CRSArrTime</th>\n",
              "      <th>FlightNum</th>\n",
              "      <th>TailNum</th>\n",
              "      <th>ActualElapsedTime</th>\n",
              "      <th>CRSElapsedTime</th>\n",
              "      <th>AirTime</th>\n",
              "      <th>ArrDelay</th>\n",
              "      <th>DepDelay</th>\n",
              "      <th>Distance</th>\n",
              "      <th>TaxiIn</th>\n",
              "      <th>TaxiOut</th>\n",
              "      <th>CarrierDelay</th>\n",
              "      <th>WeatherDelay</th>\n",
              "      <th>NASDelay</th>\n",
              "      <th>SecurityDelay</th>\n",
              "      <th>LateAircraftDelay</th>\n",
              "      <th>Origin.Airport</th>\n",
              "      <th>Origin.State</th>\n",
              "      <th>Origin.Latitude</th>\n",
              "      <th>Origin.Longitude</th>\n",
              "      <th>Destination.Airport</th>\n",
              "      <th>Destination.City</th>\n",
              "      <th>Destination.State</th>\n",
              "      <th>Destination.Latitude</th>\n",
              "      <th>Destination.Longitude</th>\n",
              "      <th>Max.Temp</th>\n",
              "      <th>Min.Temp</th>\n",
              "      <th>visibility</th>\n",
              "      <th>Date.1</th>\n",
              "      <th>CommuteTime</th>\n",
              "      <th>CRSCommuteTime</th>\n",
              "      <th>intWeekDay</th>\n",
              "      <th>DateTimeOrdinal</th>\n",
              "      <th>Month</th>\n",
              "    </tr>\n",
              "  </thead>\n",
              "  <tbody>\n",
              "    <tr>\n",
              "      <th>1</th>\n",
              "      <td>2</td>\n",
              "      <td>Albuquerque</td>\n",
              "      <td>2008-01-10</td>\n",
              "      <td>PHX</td>\n",
              "      <td>ABQ</td>\n",
              "      <td>Thursday</td>\n",
              "      <td>72120</td>\n",
              "      <td>70500</td>\n",
              "      <td>21:11</td>\n",
              "      <td>WN</td>\n",
              "      <td>75000</td>\n",
              "      <td>160</td>\n",
              "      <td>N409WN</td>\n",
              "      <td>69</td>\n",
              "      <td>75</td>\n",
              "      <td>55</td>\n",
              "      <td>21</td>\n",
              "      <td>27</td>\n",
              "      <td>328</td>\n",
              "      <td>6</td>\n",
              "      <td>8</td>\n",
              "      <td>21</td>\n",
              "      <td>0</td>\n",
              "      <td>0</td>\n",
              "      <td>0</td>\n",
              "      <td>0</td>\n",
              "      <td>Albuquerque International</td>\n",
              "      <td>NM</td>\n",
              "      <td>35.040222</td>\n",
              "      <td>-106.609194</td>\n",
              "      <td>Phoenix Sky Harbor International</td>\n",
              "      <td>Phoenix</td>\n",
              "      <td>AZ</td>\n",
              "      <td>33.434167</td>\n",
              "      <td>-112.008056</td>\n",
              "      <td>2.4</td>\n",
              "      <td>-36.4</td>\n",
              "      <td>4</td>\n",
              "      <td>2008-01-10</td>\n",
              "      <td>69</td>\n",
              "      <td>75</td>\n",
              "      <td>5</td>\n",
              "      <td>1</td>\n",
              "      <td>1</td>\n",
              "    </tr>\n",
              "    <tr>\n",
              "      <th>2</th>\n",
              "      <td>3</td>\n",
              "      <td>Albuquerque</td>\n",
              "      <td>2008-01-04</td>\n",
              "      <td>HOU</td>\n",
              "      <td>ABQ</td>\n",
              "      <td>Friday</td>\n",
              "      <td>70260</td>\n",
              "      <td>67500</td>\n",
              "      <td>22:25</td>\n",
              "      <td>WN</td>\n",
              "      <td>78000</td>\n",
              "      <td>1925</td>\n",
              "      <td>N522SW</td>\n",
              "      <td>174</td>\n",
              "      <td>175</td>\n",
              "      <td>100</td>\n",
              "      <td>45</td>\n",
              "      <td>46</td>\n",
              "      <td>759</td>\n",
              "      <td>2</td>\n",
              "      <td>12</td>\n",
              "      <td>2</td>\n",
              "      <td>0</td>\n",
              "      <td>0</td>\n",
              "      <td>0</td>\n",
              "      <td>43</td>\n",
              "      <td>Albuquerque International</td>\n",
              "      <td>NM</td>\n",
              "      <td>35.040222</td>\n",
              "      <td>-106.609194</td>\n",
              "      <td>William P X</td>\n",
              "      <td>Houston</td>\n",
              "      <td>TX</td>\n",
              "      <td>29.645419</td>\n",
              "      <td>-95.278889</td>\n",
              "      <td>2.4</td>\n",
              "      <td>-36.4</td>\n",
              "      <td>4</td>\n",
              "      <td>2008-01-04</td>\n",
              "      <td>174</td>\n",
              "      <td>175</td>\n",
              "      <td>6</td>\n",
              "      <td>1</td>\n",
              "      <td>1</td>\n",
              "    </tr>\n",
              "    <tr>\n",
              "      <th>3</th>\n",
              "      <td>5</td>\n",
              "      <td>Albuquerque</td>\n",
              "      <td>2008-01-31</td>\n",
              "      <td>STL</td>\n",
              "      <td>ABQ</td>\n",
              "      <td>Thursday</td>\n",
              "      <td>39120</td>\n",
              "      <td>38400</td>\n",
              "      <td>14:10</td>\n",
              "      <td>WN</td>\n",
              "      <td>50100</td>\n",
              "      <td>2546</td>\n",
              "      <td>N323SW</td>\n",
              "      <td>198</td>\n",
              "      <td>195</td>\n",
              "      <td>123</td>\n",
              "      <td>15</td>\n",
              "      <td>12</td>\n",
              "      <td>934</td>\n",
              "      <td>5</td>\n",
              "      <td>10</td>\n",
              "      <td>0</td>\n",
              "      <td>0</td>\n",
              "      <td>3</td>\n",
              "      <td>0</td>\n",
              "      <td>12</td>\n",
              "      <td>Albuquerque International</td>\n",
              "      <td>NM</td>\n",
              "      <td>35.040222</td>\n",
              "      <td>-106.609194</td>\n",
              "      <td>Lambert-St Louis International</td>\n",
              "      <td>St Louis</td>\n",
              "      <td>MO</td>\n",
              "      <td>38.747687</td>\n",
              "      <td>-90.359990</td>\n",
              "      <td>2.4</td>\n",
              "      <td>-36.4</td>\n",
              "      <td>4</td>\n",
              "      <td>2008-01-31</td>\n",
              "      <td>198</td>\n",
              "      <td>195</td>\n",
              "      <td>5</td>\n",
              "      <td>1</td>\n",
              "      <td>1</td>\n",
              "    </tr>\n",
              "    <tr>\n",
              "      <th>4</th>\n",
              "      <td>6</td>\n",
              "      <td>Albuquerque</td>\n",
              "      <td>2008-01-02</td>\n",
              "      <td>LBB</td>\n",
              "      <td>ABQ</td>\n",
              "      <td>Wednesday</td>\n",
              "      <td>57600</td>\n",
              "      <td>55800</td>\n",
              "      <td>17:49</td>\n",
              "      <td>WN</td>\n",
              "      <td>62700</td>\n",
              "      <td>555</td>\n",
              "      <td>N512SW</td>\n",
              "      <td>109</td>\n",
              "      <td>115</td>\n",
              "      <td>43</td>\n",
              "      <td>24</td>\n",
              "      <td>30</td>\n",
              "      <td>289</td>\n",
              "      <td>2</td>\n",
              "      <td>4</td>\n",
              "      <td>1</td>\n",
              "      <td>0</td>\n",
              "      <td>0</td>\n",
              "      <td>0</td>\n",
              "      <td>23</td>\n",
              "      <td>Albuquerque International</td>\n",
              "      <td>NM</td>\n",
              "      <td>35.040222</td>\n",
              "      <td>-106.609194</td>\n",
              "      <td>Lubbock International</td>\n",
              "      <td>Lubbock</td>\n",
              "      <td>TX</td>\n",
              "      <td>33.663639</td>\n",
              "      <td>-101.822778</td>\n",
              "      <td>2.4</td>\n",
              "      <td>-36.4</td>\n",
              "      <td>4</td>\n",
              "      <td>2008-01-02</td>\n",
              "      <td>109</td>\n",
              "      <td>115</td>\n",
              "      <td>4</td>\n",
              "      <td>1</td>\n",
              "      <td>1</td>\n",
              "    </tr>\n",
              "    <tr>\n",
              "      <th>5</th>\n",
              "      <td>7</td>\n",
              "      <td>Albuquerque</td>\n",
              "      <td>2008-01-29</td>\n",
              "      <td>DFW</td>\n",
              "      <td>ABQ</td>\n",
              "      <td>Tuesday</td>\n",
              "      <td>65520</td>\n",
              "      <td>63000</td>\n",
              "      <td>20:40</td>\n",
              "      <td>AA</td>\n",
              "      <td>72900</td>\n",
              "      <td>636</td>\n",
              "      <td>N298AA</td>\n",
              "      <td>148</td>\n",
              "      <td>165</td>\n",
              "      <td>73</td>\n",
              "      <td>25</td>\n",
              "      <td>42</td>\n",
              "      <td>569</td>\n",
              "      <td>8</td>\n",
              "      <td>7</td>\n",
              "      <td>0</td>\n",
              "      <td>0</td>\n",
              "      <td>0</td>\n",
              "      <td>0</td>\n",
              "      <td>25</td>\n",
              "      <td>Albuquerque International</td>\n",
              "      <td>NM</td>\n",
              "      <td>35.040222</td>\n",
              "      <td>-106.609194</td>\n",
              "      <td>Dallas-Fort Worth International</td>\n",
              "      <td>Dallas-Fort Worth</td>\n",
              "      <td>TX</td>\n",
              "      <td>32.895951</td>\n",
              "      <td>-97.037200</td>\n",
              "      <td>2.4</td>\n",
              "      <td>-36.4</td>\n",
              "      <td>4</td>\n",
              "      <td>2008-01-29</td>\n",
              "      <td>148</td>\n",
              "      <td>165</td>\n",
              "      <td>3</td>\n",
              "      <td>1</td>\n",
              "      <td>1</td>\n",
              "    </tr>\n",
              "  </tbody>\n",
              "</table>\n",
              "</div>"
            ],
            "text/plain": [
              "   X  Origin.City        Date  ... intWeekDay DateTimeOrdinal Month\n",
              "1  2  Albuquerque  2008-01-10  ...          5               1     1\n",
              "2  3  Albuquerque  2008-01-04  ...          6               1     1\n",
              "3  5  Albuquerque  2008-01-31  ...          5               1     1\n",
              "4  6  Albuquerque  2008-01-02  ...          4               1     1\n",
              "5  7  Albuquerque  2008-01-29  ...          3               1     1\n",
              "\n",
              "[5 rows x 44 columns]"
            ]
          },
          "metadata": {
            "tags": []
          },
          "execution_count": 563
        }
      ]
    },
    {
      "cell_type": "code",
      "metadata": {
        "id": "XfZXD9JIM2Ue"
      },
      "source": [
        "X = dataset[feature_cols] # Features\n",
        "feature_cols = ['DateTimeOrdinal','Month','intWeekDay','CRSElapsedTime','CRSArrTime','visibility','Min.Temp','DepTime','AirTime','CRSDepTime']"
      ],
      "execution_count": 564,
      "outputs": []
    },
    {
      "cell_type": "code",
      "metadata": {
        "id": "aBc4HmyzWrCG"
      },
      "source": [
        "dataset['status'] = np.where((dataset['ArrDelay'] < 45) , 'slightly delayed', 'extremely delayed')\n",
        "y = dataset['status'] # Target variable"
      ],
      "execution_count": 565,
      "outputs": []
    },
    {
      "cell_type": "code",
      "metadata": {
        "id": "ghgxmboFZi2k"
      },
      "source": [
        "# Split dataset into training set and test set\n",
        "X_train, X_test, y_train, y_test = train_test_split(X, y, test_size=0.3, random_state=1) # 70% training and 30% test\n"
      ],
      "execution_count": 566,
      "outputs": []
    },
    {
      "cell_type": "code",
      "metadata": {
        "colab": {
          "base_uri": "https://localhost:8080/",
          "height": 309
        },
        "id": "4qpOvgmFcSNQ",
        "outputId": "562d1def-1bb1-4a6b-cebe-e6e0846857f7"
      },
      "source": [
        "dataset.head()"
      ],
      "execution_count": 567,
      "outputs": [
        {
          "output_type": "execute_result",
          "data": {
            "text/html": [
              "<div>\n",
              "<style scoped>\n",
              "    .dataframe tbody tr th:only-of-type {\n",
              "        vertical-align: middle;\n",
              "    }\n",
              "\n",
              "    .dataframe tbody tr th {\n",
              "        vertical-align: top;\n",
              "    }\n",
              "\n",
              "    .dataframe thead th {\n",
              "        text-align: right;\n",
              "    }\n",
              "</style>\n",
              "<table border=\"1\" class=\"dataframe\">\n",
              "  <thead>\n",
              "    <tr style=\"text-align: right;\">\n",
              "      <th></th>\n",
              "      <th>X</th>\n",
              "      <th>Origin.City</th>\n",
              "      <th>Date</th>\n",
              "      <th>Destination.IATA</th>\n",
              "      <th>Origin.IATA</th>\n",
              "      <th>Weekday</th>\n",
              "      <th>DepTime</th>\n",
              "      <th>CRSDepTime</th>\n",
              "      <th>ArrTime</th>\n",
              "      <th>UniqueCarrier</th>\n",
              "      <th>CRSArrTime</th>\n",
              "      <th>FlightNum</th>\n",
              "      <th>TailNum</th>\n",
              "      <th>ActualElapsedTime</th>\n",
              "      <th>CRSElapsedTime</th>\n",
              "      <th>AirTime</th>\n",
              "      <th>ArrDelay</th>\n",
              "      <th>DepDelay</th>\n",
              "      <th>Distance</th>\n",
              "      <th>TaxiIn</th>\n",
              "      <th>TaxiOut</th>\n",
              "      <th>CarrierDelay</th>\n",
              "      <th>WeatherDelay</th>\n",
              "      <th>NASDelay</th>\n",
              "      <th>SecurityDelay</th>\n",
              "      <th>LateAircraftDelay</th>\n",
              "      <th>Origin.Airport</th>\n",
              "      <th>Origin.State</th>\n",
              "      <th>Origin.Latitude</th>\n",
              "      <th>Origin.Longitude</th>\n",
              "      <th>Destination.Airport</th>\n",
              "      <th>Destination.City</th>\n",
              "      <th>Destination.State</th>\n",
              "      <th>Destination.Latitude</th>\n",
              "      <th>Destination.Longitude</th>\n",
              "      <th>Max.Temp</th>\n",
              "      <th>Min.Temp</th>\n",
              "      <th>visibility</th>\n",
              "      <th>Date.1</th>\n",
              "      <th>CommuteTime</th>\n",
              "      <th>CRSCommuteTime</th>\n",
              "      <th>intWeekDay</th>\n",
              "      <th>DateTimeOrdinal</th>\n",
              "      <th>Month</th>\n",
              "      <th>status</th>\n",
              "    </tr>\n",
              "  </thead>\n",
              "  <tbody>\n",
              "    <tr>\n",
              "      <th>1</th>\n",
              "      <td>2</td>\n",
              "      <td>Albuquerque</td>\n",
              "      <td>2008-01-10</td>\n",
              "      <td>PHX</td>\n",
              "      <td>ABQ</td>\n",
              "      <td>Thursday</td>\n",
              "      <td>72120</td>\n",
              "      <td>70500</td>\n",
              "      <td>21:11</td>\n",
              "      <td>WN</td>\n",
              "      <td>75000</td>\n",
              "      <td>160</td>\n",
              "      <td>N409WN</td>\n",
              "      <td>69</td>\n",
              "      <td>75</td>\n",
              "      <td>55</td>\n",
              "      <td>21</td>\n",
              "      <td>27</td>\n",
              "      <td>328</td>\n",
              "      <td>6</td>\n",
              "      <td>8</td>\n",
              "      <td>21</td>\n",
              "      <td>0</td>\n",
              "      <td>0</td>\n",
              "      <td>0</td>\n",
              "      <td>0</td>\n",
              "      <td>Albuquerque International</td>\n",
              "      <td>NM</td>\n",
              "      <td>35.040222</td>\n",
              "      <td>-106.609194</td>\n",
              "      <td>Phoenix Sky Harbor International</td>\n",
              "      <td>Phoenix</td>\n",
              "      <td>AZ</td>\n",
              "      <td>33.434167</td>\n",
              "      <td>-112.008056</td>\n",
              "      <td>2.4</td>\n",
              "      <td>-36.4</td>\n",
              "      <td>4</td>\n",
              "      <td>2008-01-10</td>\n",
              "      <td>69</td>\n",
              "      <td>75</td>\n",
              "      <td>5</td>\n",
              "      <td>1</td>\n",
              "      <td>1</td>\n",
              "      <td>slightly delayed</td>\n",
              "    </tr>\n",
              "    <tr>\n",
              "      <th>2</th>\n",
              "      <td>3</td>\n",
              "      <td>Albuquerque</td>\n",
              "      <td>2008-01-04</td>\n",
              "      <td>HOU</td>\n",
              "      <td>ABQ</td>\n",
              "      <td>Friday</td>\n",
              "      <td>70260</td>\n",
              "      <td>67500</td>\n",
              "      <td>22:25</td>\n",
              "      <td>WN</td>\n",
              "      <td>78000</td>\n",
              "      <td>1925</td>\n",
              "      <td>N522SW</td>\n",
              "      <td>174</td>\n",
              "      <td>175</td>\n",
              "      <td>100</td>\n",
              "      <td>45</td>\n",
              "      <td>46</td>\n",
              "      <td>759</td>\n",
              "      <td>2</td>\n",
              "      <td>12</td>\n",
              "      <td>2</td>\n",
              "      <td>0</td>\n",
              "      <td>0</td>\n",
              "      <td>0</td>\n",
              "      <td>43</td>\n",
              "      <td>Albuquerque International</td>\n",
              "      <td>NM</td>\n",
              "      <td>35.040222</td>\n",
              "      <td>-106.609194</td>\n",
              "      <td>William P X</td>\n",
              "      <td>Houston</td>\n",
              "      <td>TX</td>\n",
              "      <td>29.645419</td>\n",
              "      <td>-95.278889</td>\n",
              "      <td>2.4</td>\n",
              "      <td>-36.4</td>\n",
              "      <td>4</td>\n",
              "      <td>2008-01-04</td>\n",
              "      <td>174</td>\n",
              "      <td>175</td>\n",
              "      <td>6</td>\n",
              "      <td>1</td>\n",
              "      <td>1</td>\n",
              "      <td>extremely delayed</td>\n",
              "    </tr>\n",
              "    <tr>\n",
              "      <th>3</th>\n",
              "      <td>5</td>\n",
              "      <td>Albuquerque</td>\n",
              "      <td>2008-01-31</td>\n",
              "      <td>STL</td>\n",
              "      <td>ABQ</td>\n",
              "      <td>Thursday</td>\n",
              "      <td>39120</td>\n",
              "      <td>38400</td>\n",
              "      <td>14:10</td>\n",
              "      <td>WN</td>\n",
              "      <td>50100</td>\n",
              "      <td>2546</td>\n",
              "      <td>N323SW</td>\n",
              "      <td>198</td>\n",
              "      <td>195</td>\n",
              "      <td>123</td>\n",
              "      <td>15</td>\n",
              "      <td>12</td>\n",
              "      <td>934</td>\n",
              "      <td>5</td>\n",
              "      <td>10</td>\n",
              "      <td>0</td>\n",
              "      <td>0</td>\n",
              "      <td>3</td>\n",
              "      <td>0</td>\n",
              "      <td>12</td>\n",
              "      <td>Albuquerque International</td>\n",
              "      <td>NM</td>\n",
              "      <td>35.040222</td>\n",
              "      <td>-106.609194</td>\n",
              "      <td>Lambert-St Louis International</td>\n",
              "      <td>St Louis</td>\n",
              "      <td>MO</td>\n",
              "      <td>38.747687</td>\n",
              "      <td>-90.359990</td>\n",
              "      <td>2.4</td>\n",
              "      <td>-36.4</td>\n",
              "      <td>4</td>\n",
              "      <td>2008-01-31</td>\n",
              "      <td>198</td>\n",
              "      <td>195</td>\n",
              "      <td>5</td>\n",
              "      <td>1</td>\n",
              "      <td>1</td>\n",
              "      <td>slightly delayed</td>\n",
              "    </tr>\n",
              "    <tr>\n",
              "      <th>4</th>\n",
              "      <td>6</td>\n",
              "      <td>Albuquerque</td>\n",
              "      <td>2008-01-02</td>\n",
              "      <td>LBB</td>\n",
              "      <td>ABQ</td>\n",
              "      <td>Wednesday</td>\n",
              "      <td>57600</td>\n",
              "      <td>55800</td>\n",
              "      <td>17:49</td>\n",
              "      <td>WN</td>\n",
              "      <td>62700</td>\n",
              "      <td>555</td>\n",
              "      <td>N512SW</td>\n",
              "      <td>109</td>\n",
              "      <td>115</td>\n",
              "      <td>43</td>\n",
              "      <td>24</td>\n",
              "      <td>30</td>\n",
              "      <td>289</td>\n",
              "      <td>2</td>\n",
              "      <td>4</td>\n",
              "      <td>1</td>\n",
              "      <td>0</td>\n",
              "      <td>0</td>\n",
              "      <td>0</td>\n",
              "      <td>23</td>\n",
              "      <td>Albuquerque International</td>\n",
              "      <td>NM</td>\n",
              "      <td>35.040222</td>\n",
              "      <td>-106.609194</td>\n",
              "      <td>Lubbock International</td>\n",
              "      <td>Lubbock</td>\n",
              "      <td>TX</td>\n",
              "      <td>33.663639</td>\n",
              "      <td>-101.822778</td>\n",
              "      <td>2.4</td>\n",
              "      <td>-36.4</td>\n",
              "      <td>4</td>\n",
              "      <td>2008-01-02</td>\n",
              "      <td>109</td>\n",
              "      <td>115</td>\n",
              "      <td>4</td>\n",
              "      <td>1</td>\n",
              "      <td>1</td>\n",
              "      <td>slightly delayed</td>\n",
              "    </tr>\n",
              "    <tr>\n",
              "      <th>5</th>\n",
              "      <td>7</td>\n",
              "      <td>Albuquerque</td>\n",
              "      <td>2008-01-29</td>\n",
              "      <td>DFW</td>\n",
              "      <td>ABQ</td>\n",
              "      <td>Tuesday</td>\n",
              "      <td>65520</td>\n",
              "      <td>63000</td>\n",
              "      <td>20:40</td>\n",
              "      <td>AA</td>\n",
              "      <td>72900</td>\n",
              "      <td>636</td>\n",
              "      <td>N298AA</td>\n",
              "      <td>148</td>\n",
              "      <td>165</td>\n",
              "      <td>73</td>\n",
              "      <td>25</td>\n",
              "      <td>42</td>\n",
              "      <td>569</td>\n",
              "      <td>8</td>\n",
              "      <td>7</td>\n",
              "      <td>0</td>\n",
              "      <td>0</td>\n",
              "      <td>0</td>\n",
              "      <td>0</td>\n",
              "      <td>25</td>\n",
              "      <td>Albuquerque International</td>\n",
              "      <td>NM</td>\n",
              "      <td>35.040222</td>\n",
              "      <td>-106.609194</td>\n",
              "      <td>Dallas-Fort Worth International</td>\n",
              "      <td>Dallas-Fort Worth</td>\n",
              "      <td>TX</td>\n",
              "      <td>32.895951</td>\n",
              "      <td>-97.037200</td>\n",
              "      <td>2.4</td>\n",
              "      <td>-36.4</td>\n",
              "      <td>4</td>\n",
              "      <td>2008-01-29</td>\n",
              "      <td>148</td>\n",
              "      <td>165</td>\n",
              "      <td>3</td>\n",
              "      <td>1</td>\n",
              "      <td>1</td>\n",
              "      <td>slightly delayed</td>\n",
              "    </tr>\n",
              "  </tbody>\n",
              "</table>\n",
              "</div>"
            ],
            "text/plain": [
              "   X  Origin.City        Date  ... DateTimeOrdinal Month             status\n",
              "1  2  Albuquerque  2008-01-10  ...               1     1   slightly delayed\n",
              "2  3  Albuquerque  2008-01-04  ...               1     1  extremely delayed\n",
              "3  5  Albuquerque  2008-01-31  ...               1     1   slightly delayed\n",
              "4  6  Albuquerque  2008-01-02  ...               1     1   slightly delayed\n",
              "5  7  Albuquerque  2008-01-29  ...               1     1   slightly delayed\n",
              "\n",
              "[5 rows x 45 columns]"
            ]
          },
          "metadata": {
            "tags": []
          },
          "execution_count": 567
        }
      ]
    },
    {
      "cell_type": "code",
      "metadata": {
        "colab": {
          "base_uri": "https://localhost:8080/"
        },
        "id": "YlYb11zl_4Xe",
        "outputId": "93a65645-75a1-4101-dbbd-c4fc26d2e8f8"
      },
      "source": [
        "print (\"\\nNull Vlaues    =\",dataset.isnull().sum().values.sum())\n",
        "print (\"\\nNa Vlaues    =\",dataset.isna().sum().values.sum())\n"
      ],
      "execution_count": 568,
      "outputs": [
        {
          "output_type": "stream",
          "text": [
            "\n",
            "Null Vlaues    = 0\n",
            "\n",
            "Na Vlaues    = 0\n"
          ],
          "name": "stdout"
        }
      ]
    },
    {
      "cell_type": "markdown",
      "metadata": {
        "id": "WGoJy6TjN0YE"
      },
      "source": [
        "*Building Decision Tree Model*"
      ]
    },
    {
      "cell_type": "code",
      "metadata": {
        "id": "8bhIYQyhzI13",
        "colab": {
          "base_uri": "https://localhost:8080/"
        },
        "outputId": "ad07ca5d-0cc9-474b-9f3c-44e2c37ab43e"
      },
      "source": [
        "\n",
        "#Let's create a Decision Tree Model using Scikit-learn.\n",
        "# Create Decision Tree classifer object\n",
        "clf = DecisionTreeClassifier()\n",
        "\n",
        "# Train Decision Tree Classifer\n",
        "clf = clf.fit(X_train,y_train)\n",
        "\n",
        "#Predict the response for test dataset\n",
        "y_pred = clf.predict(X_test)\n",
        "\n",
        "\n",
        "cf_matrix = confusion_matrix(y_test, y_pred)\n",
        "print(cf_matrix)\n"
      ],
      "execution_count": 569,
      "outputs": [
        {
          "output_type": "stream",
          "text": [
            "[[42720  8865]\n",
            " [ 9539 44912]]\n"
          ],
          "name": "stdout"
        }
      ]
    },
    {
      "cell_type": "code",
      "metadata": {
        "colab": {
          "base_uri": "https://localhost:8080/"
        },
        "id": "ylqXlKI56R-G",
        "outputId": "4f8c44ee-d86f-42b1-aafa-54799e4a567b"
      },
      "source": [
        "clf.score(X_test, y_test)\n"
      ],
      "execution_count": 570,
      "outputs": [
        {
          "output_type": "execute_result",
          "data": {
            "text/plain": [
              "0.8264363046512505"
            ]
          },
          "metadata": {
            "tags": []
          },
          "execution_count": 570
        }
      ]
    },
    {
      "cell_type": "code",
      "metadata": {
        "colab": {
          "base_uri": "https://localhost:8080/",
          "height": 282
        },
        "id": "CODcA4YwgWCn",
        "outputId": "fb02f475-cf0d-4986-c796-445d53fd7c23"
      },
      "source": [
        "import seaborn as sns\n",
        "sns.heatmap(cf_matrix, annot=True)"
      ],
      "execution_count": 571,
      "outputs": [
        {
          "output_type": "execute_result",
          "data": {
            "text/plain": [
              "<matplotlib.axes._subplots.AxesSubplot at 0x7f6683b99d90>"
            ]
          },
          "metadata": {
            "tags": []
          },
          "execution_count": 571
        },
        {
          "output_type": "display_data",
          "data": {
            "image/png": "[encoded data removed]",
            "text/plain": [
              "<Figure size 432x288 with 2 Axes>"
            ]
          },
          "metadata": {
            "tags": [],
            "needs_background": "light"
          }
        }
      ]
    },
    {
      "cell_type": "code",
      "metadata": {
        "colab": {
          "base_uri": "https://localhost:8080/",
          "height": 282
        },
        "id": "LolcSNAPg2er",
        "outputId": "e07e203f-7999-488f-fab1-130e80825cf9"
      },
      "source": [
        "sns.heatmap(cf_matrix/np.sum(cf_matrix), annot=True, \n",
        "            fmt='.2%', cmap='Blues')"
      ],
      "execution_count": 572,
      "outputs": [
        {
          "output_type": "execute_result",
          "data": {
            "text/plain": [
              "<matplotlib.axes._subplots.AxesSubplot at 0x7f6681fc9d10>"
            ]
          },
          "metadata": {
            "tags": []
          },
          "execution_count": 572
        },
        {
          "output_type": "display_data",
          "data": {
            "image/png": "[encoded data removed]",
            "text/plain": [
              "<Figure size 432x288 with 2 Axes>"
            ]
          },
          "metadata": {
            "tags": [],
            "needs_background": "light"
          }
        }
      ]
    },
    {
      "cell_type": "code",
      "metadata": {
        "id": "1OhLKu-Jzd98",
        "colab": {
          "base_uri": "https://localhost:8080/"
        },
        "outputId": "6a248ef1-3622-470c-f743-40349a2063e5"
      },
      "source": [
        "# Model Accuracy, how often is the classifier correct?\n",
        "print(\"Accuracy:\",metrics.accuracy_score(y_test, y_pred))"
      ],
      "execution_count": 573,
      "outputs": [
        {
          "output_type": "stream",
          "text": [
            "Accuracy: 0.8264363046512505\n"
          ],
          "name": "stdout"
        }
      ]
    },
    {
      "cell_type": "code",
      "metadata": {
        "colab": {
          "base_uri": "https://localhost:8080/"
        },
        "id": "qB0mWhT8fb2S",
        "outputId": "bd6ae3a7-0851-4ac0-cdfe-ab5285562f08"
      },
      "source": [
        "print(\"F1 Score: \", f1_score(y_test, y_pred, average=\"macro\"))\n",
        "print(\"Precision Score: \", precision_score(y_test, y_pred, average=\"macro\"))\n",
        "print(\"Recall Score: \", recall_score(y_test, y_pred, average=\"macro\")) "
      ],
      "execution_count": 574,
      "outputs": [
        {
          "output_type": "stream",
          "text": [
            "F1 Score:  0.8263621020814245\n",
            "Precision Score:  0.8263097111681965\n",
            "Recall Score:  0.8264813443091301\n"
          ],
          "name": "stdout"
        }
      ]
    },
    {
      "cell_type": "markdown",
      "metadata": {
        "id": "lYSpp69hQ9VR"
      },
      "source": [
        "*Visualizing Decision Trees\n",
        "You can use Scikit-learn's export_graphviz function for display the tree within a Jupyter notebook. For plotting tree, you also need to install graphviz and pydotplus.*\n",
        "\n"
      ]
    },
    {
      "cell_type": "code",
      "metadata": {
        "id": "KXsEjXBLzgdq",
        "colab": {
          "base_uri": "https://localhost:8080/"
        },
        "outputId": "3ae957f2-a29e-4f20-8af1-4f5a8e7e5d75"
      },
      "source": [
        "pip install graphviz"
      ],
      "execution_count": 575,
      "outputs": [
        {
          "output_type": "stream",
          "text": [
            "Requirement already satisfied: graphviz in /usr/local/lib/python3.7/dist-packages (0.10.1)\n"
          ],
          "name": "stdout"
        }
      ]
    },
    {
      "cell_type": "code",
      "metadata": {
        "colab": {
          "base_uri": "https://localhost:8080/"
        },
        "id": "_VA6DvX5RHws",
        "outputId": "c037a8ab-26a9-44de-901f-3cd23862573b"
      },
      "source": [
        "pip install pydotplus\n"
      ],
      "execution_count": 576,
      "outputs": [
        {
          "output_type": "stream",
          "text": [
            "Requirement already satisfied: pydotplus in /usr/local/lib/python3.7/dist-packages (2.0.2)\n",
            "Requirement already satisfied: pyparsing>=2.0.1 in /usr/local/lib/python3.7/dist-packages (from pydotplus) (2.4.7)\n"
          ],
          "name": "stdout"
        }
      ]
    },
    {
      "cell_type": "code",
      "metadata": {
        "id": "IycwmFkXzUEG"
      },
      "source": [
        "from sklearn.tree import export_graphviz\n",
        "from sklearn.externals.six import StringIO  \n",
        "from IPython.display import Image  \n",
        "import pydotplus\n",
        "\n",
        "dot_data = StringIO()\n",
        "export_graphviz(clf, out_file=dot_data,  \n",
        "                filled=True, rounded=True,\n",
        "                special_characters=True,feature_names = feature_cols,class_names=['slightly delayed', 'extremely delayed'])\n",
        "graph = pydotplus.graph_from_dot_data(dot_data.getvalue())  \n",
        "graph.write_png('flightDelays.png')\n",
        "Image(graph.create_png())\n"
      ],
      "execution_count": null,
      "outputs": []
    },
    {
      "cell_type": "code",
      "metadata": {
        "colab": {
          "base_uri": "https://localhost:8080/"
        },
        "id": "AhVIw4q4LkpF",
        "outputId": "52ba5605-3196-40c1-ac0c-9254f1af5a64"
      },
      "source": [
        "graph.write_pdf(\"flightDelays.pdf\")"
      ],
      "execution_count": null,
      "outputs": [
        {
          "output_type": "execute_result",
          "data": {
            "text/plain": [
              "True"
            ]
          },
          "metadata": {
            "tags": []
          },
          "execution_count": 17
        }
      ]
    }
  ]
}